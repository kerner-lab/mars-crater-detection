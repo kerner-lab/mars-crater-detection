{
 "cells": [
  {
   "cell_type": "code",
   "execution_count": 163,
   "id": "4af7a6a5-86ba-41af-a521-82d2561c78e3",
   "metadata": {},
   "outputs": [],
   "source": [
    "import cv2\n",
    "import os\n",
    "import numpy as np\n",
    "import matplotlib.pyplot as plt"
   ]
  },
  {
   "cell_type": "code",
   "execution_count": 224,
   "id": "6e638d3d-feb0-4590-802f-c1fe7cd5ca93",
   "metadata": {},
   "outputs": [],
   "source": [
    "img = cv2.imread('u2net_pad_dice_tile_reconstructed_new_shuffle_22.png',0)"
   ]
  },
  {
   "cell_type": "code",
   "execution_count": 225,
   "id": "0590e544-0ad5-458a-b90c-fcd0f07fea33",
   "metadata": {},
   "outputs": [],
   "source": [
    "img = img/255"
   ]
  },
  {
   "cell_type": "code",
   "execution_count": 226,
   "id": "f9ba11e5-7b47-4971-b9f0-f1734c76361c",
   "metadata": {},
   "outputs": [],
   "source": [
    "# print(np.unique(img))"
   ]
  },
  {
   "cell_type": "code",
   "execution_count": 227,
   "id": "b2369670-79e9-4a8c-806e-527f24ed9df3",
   "metadata": {},
   "outputs": [
    {
     "name": "stdout",
     "output_type": "stream",
     "text": [
      "0.5\n"
     ]
    }
   ],
   "source": [
    "target_thresh = 0.5\n",
    "print(target_thresh)\n",
    "img[img >= target_thresh] = 255\n",
    "img[img < target_thresh] = 0"
   ]
  },
  {
   "cell_type": "code",
   "execution_count": 228,
   "id": "21d8e58c-07d1-40d5-bd2a-0476a3e04382",
   "metadata": {},
   "outputs": [],
   "source": [
    "img = np.uint8(img)"
   ]
  },
  {
   "cell_type": "code",
   "execution_count": 229,
   "id": "1299299d-c7e2-4c6f-9596-97a8731d364d",
   "metadata": {},
   "outputs": [
    {
     "name": "stdout",
     "output_type": "stream",
     "text": [
      "[  0 255]\n"
     ]
    }
   ],
   "source": [
    "print(np.unique(img))"
   ]
  },
  {
   "cell_type": "code",
   "execution_count": 230,
   "id": "869e62e1-5aca-4734-8043-0d10a8ac5ab1",
   "metadata": {},
   "outputs": [
    {
     "data": {
      "image/png": "[encoded data removed]",
      "text/plain": [
       "<Figure size 432x288 with 1 Axes>"
      ]
     },
     "metadata": {
      "needs_background": "light"
     },
     "output_type": "display_data"
    }
   ],
   "source": [
    "plt.imshow(img)\n",
    "plt.show()"
   ]
  },
  {
   "cell_type": "code",
   "execution_count": 231,
   "id": "94a42a1b-3d0d-483b-8b8d-b90510a9a266",
   "metadata": {},
   "outputs": [
    {
     "data": {
      "text/plain": [
       "(7680, 7680)"
      ]
     },
     "execution_count": 231,
     "metadata": {},
     "output_type": "execute_result"
    }
   ],
   "source": [
    "img.shape"
   ]
  },
  {
   "cell_type": "code",
   "execution_count": 232,
   "id": "9e0a7bf9-6184-4de2-84f4-2f10bfc829f1",
   "metadata": {},
   "outputs": [
    {
     "name": "stdout",
     "output_type": "stream",
     "text": [
      "899\n",
      "788\n"
     ]
    }
   ],
   "source": [
    "temp_img = np.zeros((img.shape))\n",
    "contours,hierarchy = cv2.findContours(img,cv2.RETR_TREE, cv2.CHAIN_APPROX_SIMPLE)\n",
    "print(len(contours))\n",
    "\n",
    "contour_list = []\n",
    "for contour in contours:\n",
    "    approx = cv2.approxPolyDP(contour,0.01*cv2.arcLength(contour,True),True)\n",
    "    area = cv2.contourArea(contour)\n",
    "    if ((len(approx) > 8) & (len(approx) < 23)):\n",
    "        contour_list.append(contour)\n",
    "        \n",
    "cnt = contour_list\n",
    "print(len(cnt))\n",
    "\n",
    "bboxes = []\n",
    "for i in range (len(cnt)):\n",
    "    (x,y),radius = cv2.minEnclosingCircle(cnt[i])\n",
    "    # x1,y1,w,h = cv2.boundingRect(cnt[i])\n",
    "    \n",
    "    center = (int(x),int(y))\n",
    "    # radius = (radius)\n",
    "    if(radius>=7.9 and radius<=138.2):\n",
    "        bboxes.append([x-radius,y-radius,x+radius,y+radius])\n",
    "        temp_img = cv2.circle(temp_img,center,int(radius),(255),-1)\n",
    "    # print('Circle' + str(i) + ': Center =' + str(center) + 'Radius =' + str(radius))"
   ]
  },
  {
   "cell_type": "code",
   "execution_count": 233,
   "id": "8a0cb504-f689-40e3-be0b-b0046675eae1",
   "metadata": {},
   "outputs": [
    {
     "data": {
      "text/plain": [
       "True"
      ]
     },
     "execution_count": 233,
     "metadata": {},
     "output_type": "execute_result"
    }
   ],
   "source": [
    "cv2.imwrite('temp_img.png',temp_img)"
   ]
  },
  {
   "cell_type": "code",
   "execution_count": 234,
   "id": "17283cfd-9ae9-47a8-b115-af80089a0de2",
   "metadata": {},
   "outputs": [],
   "source": [
    "def non_max_suppression_slow(boxes, overlapThresh):\n",
    "\n",
    "    if len(boxes) == 0:\n",
    "        return []\n",
    "\n",
    "    pick = []\n",
    "\n",
    "    x1 = boxes[:, 0]\n",
    "    y1 = boxes[:, 1]\n",
    "    x2 = boxes[:, 2]\n",
    "    y2 = boxes[:, 3]\n",
    "\n",
    "    area = (x2 - x1  + 1) * (y2 - y1 + 1)\n",
    "    idxs = np.argsort(y2)\n",
    "\n",
    "    while len(idxs) > 0:\n",
    "        last = len(idxs) - 1\n",
    "        i = idxs[last]\n",
    "        pick.append(i)\n",
    "        suppress = [last]\n",
    "\n",
    "        for pos in range(0, last):\n",
    "            j = idxs[pos]\n",
    "\n",
    "            xx1 = max(x1[i], x1[j])\n",
    "            yy1 = max(y1[i], y1[j])\n",
    "            xx2 = min(x2[i], x2[j])\n",
    "            yy2 = min(y2[i], y2[j])\n",
    "\n",
    "            w = max(0, xx2 - xx1 + 1)\n",
    "            h = max(0, yy2 - yy1 + 1)\n",
    "\n",
    "            overlap = float(w * h) / area[j]\n",
    "\n",
    "            if overlap > overlapThresh:\n",
    "                suppress.append(pos)\n",
    "        idxs = np.delete(idxs, suppress)\t\n",
    "    return boxes[pick]"
   ]
  },
  {
   "cell_type": "code",
   "execution_count": 235,
   "id": "79bc7e10-1c0d-4a9e-b58a-8d951a752b16",
   "metadata": {},
   "outputs": [],
   "source": [
    "bboxes = np.array(bboxes)"
   ]
  },
  {
   "cell_type": "code",
   "execution_count": 236,
   "id": "34d5dc84-39a9-40be-acfb-f32b236ec8dd",
   "metadata": {},
   "outputs": [],
   "source": [
    "nboxes = non_max_suppression_slow(bboxes,0.1)"
   ]
  },
  {
   "cell_type": "code",
   "execution_count": 237,
   "id": "3e18e8c3-916c-4337-bc6e-a70711a775b4",
   "metadata": {},
   "outputs": [
    {
     "name": "stdout",
     "output_type": "stream",
     "text": [
      "702\n",
      "679\n"
     ]
    }
   ],
   "source": [
    "print(len(bboxes))\n",
    "print(len(nboxes))"
   ]
  },
  {
   "cell_type": "code",
   "execution_count": 238,
   "id": "8d5c01f8-923c-489e-903e-d728b6020d5e",
   "metadata": {},
   "outputs": [],
   "source": [
    "ntemp_img = np.zeros((img.shape))\n",
    "coords = []\n",
    "# bboxes = []\n",
    "for i in range (len(nboxes)):\n",
    "    # (x,y),radius = cv2.minEnclosingCircle(cnt[i])\n",
    "    x1 = nboxes[i,0]\n",
    "    y1 = nboxes[i,1]\n",
    "    x2 = nboxes[i,2]\n",
    "    y2 = nboxes[i,3]\n",
    "    x = int((x2+x1)//2)\n",
    "    y = int((y2+y1)//2)\n",
    "    radius = int((y2-y1)//2)\n",
    "    center = (int(x),int(y))\n",
    "    coords.append([x,y,radius])\n",
    "    ntemp_img = cv2.circle(ntemp_img,center,int(radius),(255),-1)"
   ]
  },
  {
   "cell_type": "code",
   "execution_count": 239,
   "id": "7e471672-af35-4325-b53d-e117525a4cfd",
   "metadata": {},
   "outputs": [
    {
     "data": {
      "text/plain": [
       "True"
      ]
     },
     "execution_count": 239,
     "metadata": {},
     "output_type": "execute_result"
    }
   ],
   "source": [
    "cv2.imwrite('ntemp_img.png',ntemp_img)"
   ]
  },
  {
   "cell_type": "code",
   "execution_count": 240,
   "id": "0f9946b5-dc23-4436-84a4-486c9d7fc1df",
   "metadata": {},
   "outputs": [],
   "source": [
    "# print(coords)"
   ]
  },
  {
   "cell_type": "code",
   "execution_count": 241,
   "id": "ec15ae81-c854-47d2-ac59-cec8fa5be43d",
   "metadata": {},
   "outputs": [
    {
     "name": "stdout",
     "output_type": "stream",
     "text": [
      "679\n",
      "663\n"
     ]
    }
   ],
   "source": [
    "print(len(coords))\n",
    "longlat_thresh2 = 12\n",
    "rad_thresh = 1\n",
    "coords = np.asarray(coords)\n",
    "i, N = 0, len(coords)\n",
    "while i < N:\n",
    "    Long, Lat, Rad = coords.T\n",
    "    lo, la, r = coords[i]\n",
    "    minr = np.minimum(r, Rad)\n",
    "\n",
    "    dL = ((Long - lo)**2 + (Lat - la)**2) / minr**2\n",
    "    dR = abs(Rad - r) / minr\n",
    "    # print(dR)\n",
    "    index = (dR < rad_thresh) & (dL < longlat_thresh2)\n",
    "    if len(np.where(index == True)[0]) > 1:\n",
    "        # print('r')\n",
    "        # replace current coord with max match probability coord in\n",
    "        # duplicate list\n",
    "        coords_i = coords[np.where(index == True)]\n",
    "        # corr_i = corr[np.where(index == True)]\n",
    "        coords_i = sorted(coords_i,key = lambda x:x[2],reverse=True)\n",
    "        # print(coords_i)\n",
    "        coords[i] = coords_i[0]\n",
    "        index[i] = False\n",
    "        coords = coords[np.where(index == False)]\n",
    "    N, i = len(coords), i + 1\n",
    "print(len(coords))"
   ]
  },
  {
   "cell_type": "code",
   "execution_count": 242,
   "id": "7cd85065-c838-4276-88c7-403e017fc448",
   "metadata": {},
   "outputs": [],
   "source": [
    "ntemp_img = np.zeros((img.shape))\n",
    "for i in range (len(coords)):\n",
    "    # (x,y),radius = cv2.minEnclosingCircle(cnt[i])\n",
    "    x = coords[i,0]\n",
    "    y = coords[i,1]\n",
    "    radius = coords[i,2]\n",
    "    center = (int(x),int(y))\n",
    "    # coords.append([x,y,radius])\n",
    "    ntemp_img = cv2.circle(ntemp_img,center,int(radius),(255),-1)"
   ]
  },
  {
   "cell_type": "code",
   "execution_count": 243,
   "id": "e1bb9dea-6262-4173-9c99-d25806506442",
   "metadata": {},
   "outputs": [
    {
     "data": {
      "text/plain": [
       "True"
      ]
     },
     "execution_count": 243,
     "metadata": {},
     "output_type": "execute_result"
    }
   ],
   "source": [
    "cv2.imwrite('ntemp_img_c.png',ntemp_img)"
   ]
  },
  {
   "cell_type": "code",
   "execution_count": null,
   "id": "1346c71c-419f-4aad-8879-526ff0996a08",
   "metadata": {},
   "outputs": [],
   "source": []
  }
 ],
 "metadata": {
  "kernelspec": {
   "display_name": "Python 3 (ipykernel)",
   "language": "python",
   "name": "python3"
  },
  "language_info": {
   "codemirror_mode": {
    "name": "ipython",
    "version": 3
   },
   "file_extension": ".py",
   "mimetype": "text/x-python",
   "name": "python",
   "nbconvert_exporter": "python",
   "pygments_lexer": "ipython3",
   "version": "3.9.7"
  }
 },
 "nbformat": 4,
 "nbformat_minor": 5
}
